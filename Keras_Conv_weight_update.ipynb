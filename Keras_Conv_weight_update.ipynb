{
  "nbformat": 4,
  "nbformat_minor": 0,
  "metadata": {
    "colab": {
      "name": "Keras-Conv-weight-update.ipynb",
      "version": "0.3.2",
      "provenance": [],
      "collapsed_sections": [],
      "include_colab_link": true
    },
    "kernelspec": {
      "name": "python3",
      "display_name": "Python 3"
    }
  },
  "cells": [
    {
      "cell_type": "markdown",
      "metadata": {
        "id": "view-in-github",
        "colab_type": "text"
      },
      "source": [
        "<a href=\"https://colab.research.google.com/github/ANSHUMAN87/Collections/blob/master/Keras_Conv_weight_update.ipynb\" target=\"_parent\"><img src=\"https://colab.research.google.com/assets/colab-badge.svg\" alt=\"Open In Colab\"/></a>"
      ]
    },
    {
      "cell_type": "markdown",
      "metadata": {
        "id": "5eqQ9A-7pu8y",
        "colab_type": "text"
      },
      "source": [
        "# Import Necessary Packages"
      ]
    },
    {
      "cell_type": "code",
      "metadata": {
        "id": "j7OG8i-wo-a_",
        "colab_type": "code",
        "colab": {}
      },
      "source": [
        "from keras.layers import Input, Conv2D \n",
        "from keras.models import Model\n",
        "import numpy as np"
      ],
      "execution_count": 0,
      "outputs": []
    },
    {
      "cell_type": "markdown",
      "metadata": {
        "id": "Rpe9fO3ZqWcf",
        "colab_type": "text"
      },
      "source": [
        "# Create a Sample Model with only Single CONV layer"
      ]
    },
    {
      "cell_type": "code",
      "metadata": {
        "id": "oRy9BwPep9Aj",
        "colab_type": "code",
        "colab": {
          "base_uri": "https://localhost:8080/",
          "height": 221
        },
        "outputId": "7b63ef4f-de1e-4aba-891e-dc201fc464a4"
      },
      "source": [
        "img_size = 224\n",
        "in_channel_size = 3\n",
        "out_channel_size = 32\n",
        "kernel_size = 1\n",
        "input  = Input(\n",
        "    name =  'input',\n",
        "    shape = (img_size, img_size, in_channel_size))\n",
        "\n",
        "output = Conv2D(\n",
        "    name          ='anshu_conv_2',\n",
        "    filters       = out_channel_size, \n",
        "    kernel_size   = kernel_size,\n",
        "    padding       = 'same'\n",
        ")(input)\n",
        "\n",
        "model = Model(input, output)\n",
        "model.summary()"
      ],
      "execution_count": 12,
      "outputs": [
        {
          "output_type": "stream",
          "text": [
            "Model: \"model_3\"\n",
            "_________________________________________________________________\n",
            "Layer (type)                 Output Shape              Param #   \n",
            "=================================================================\n",
            "input (InputLayer)           (None, 224, 224, 3)       0         \n",
            "_________________________________________________________________\n",
            "anshu_conv_2 (Conv2D)        (None, 224, 224, 32)      128       \n",
            "=================================================================\n",
            "Total params: 128\n",
            "Trainable params: 128\n",
            "Non-trainable params: 0\n",
            "_________________________________________________________________\n"
          ],
          "name": "stdout"
        }
      ]
    },
    {
      "cell_type": "markdown",
      "metadata": {
        "id": "nRXlJaMorkhd",
        "colab_type": "text"
      },
      "source": [
        "# Let us display the internal weights and biases of a CONV layer freshly created without any training."
      ]
    },
    {
      "cell_type": "code",
      "metadata": {
        "id": "dJkTAg9dqhNw",
        "colab_type": "code",
        "colab": {
          "base_uri": "https://localhost:8080/",
          "height": 496
        },
        "outputId": "ffc1cb1a-c964-4b7f-ed3b-f4c5e49dc87f"
      },
      "source": [
        "for layer in model.layers:\n",
        "  if 'conv' not in layer.name:\n",
        "    continue\n",
        "\n",
        "  # get filter weights\n",
        "  filters, biases = layer.get_weights()\n",
        "  print(\"Filters: \", filters)\n",
        "  print(\"Biases: \", biases)"
      ],
      "execution_count": 9,
      "outputs": [
        {
          "output_type": "stream",
          "text": [
            "WARNING:tensorflow:From /usr/local/lib/python3.6/dist-packages/keras/backend/tensorflow_backend.py:190: The name tf.get_default_session is deprecated. Please use tf.compat.v1.get_default_session instead.\n",
            "\n",
            "WARNING:tensorflow:From /usr/local/lib/python3.6/dist-packages/keras/backend/tensorflow_backend.py:197: The name tf.ConfigProto is deprecated. Please use tf.compat.v1.ConfigProto instead.\n",
            "\n",
            "Filters:  [[[[-0.15997028 -0.25673783 -0.25969887  0.3833768  -0.18927887\n",
            "    -0.05448774  0.12030998 -0.26170594 -0.30070728 -0.05145797\n",
            "    -0.04487666  0.19818804  0.04449397  0.3281552  -0.18543847\n",
            "    -0.00564075  0.13388017  0.32472327 -0.01253942  0.04851243\n",
            "    -0.39327383 -0.03772441 -0.40511227 -0.13453734  0.27578828\n",
            "    -0.07391182 -0.41311884  0.08147377  0.11656198  0.04510885\n",
            "     0.2473754   0.37690035]\n",
            "   [-0.07807067  0.1714069   0.2379367   0.003993   -0.32001302\n",
            "     0.07364124  0.04608208 -0.02545771 -0.37682185  0.36690524\n",
            "    -0.00088468  0.06287512  0.30852243 -0.02814305 -0.1232416\n",
            "    -0.04419181 -0.21693517  0.19543251 -0.02375579 -0.24965009\n",
            "     0.31777528 -0.15324378  0.11444399  0.40932068  0.34182534\n",
            "     0.2312577   0.16057947  0.10439757 -0.22430097  0.1432186\n",
            "     0.05411687  0.00476485]\n",
            "   [ 0.23408154  0.25089052  0.12654045 -0.32652515 -0.16142032\n",
            "     0.11162624 -0.38034794 -0.21562967 -0.04677349  0.13003328\n",
            "    -0.02405202 -0.36565444 -0.19821315 -0.14019844  0.38169745\n",
            "    -0.28556693 -0.24170968  0.34463504  0.3155817  -0.15147054\n",
            "     0.14347765 -0.06127191  0.3540152  -0.08724827 -0.41202834\n",
            "     0.21778223 -0.07827815 -0.01179531 -0.3064368   0.32942495\n",
            "     0.00882006  0.18165722]]]]\n",
            "Biases:  [0. 0. 0. 0. 0. 0. 0. 0. 0. 0. 0. 0. 0. 0. 0. 0. 0. 0. 0. 0. 0. 0. 0. 0.\n",
            " 0. 0. 0. 0. 0. 0. 0. 0.]\n"
          ],
          "name": "stdout"
        }
      ]
    },
    {
      "cell_type": "markdown",
      "metadata": {
        "id": "EOHyA6tYtDCD",
        "colab_type": "text"
      },
      "source": [
        "# Let us create our own weights which we want to update into the CONV layer"
      ]
    },
    {
      "cell_type": "code",
      "metadata": {
        "id": "2uSPqODYr83Y",
        "colab_type": "code",
        "colab": {}
      },
      "source": [
        "weights_data = np.empty((kernel_size, kernel_size, in_channel_size, out_channel_size))\n",
        "weights_data.fill(3.0)"
      ],
      "execution_count": 0,
      "outputs": []
    },
    {
      "cell_type": "markdown",
      "metadata": {
        "id": "W3eKQYP5tm6z",
        "colab_type": "text"
      },
      "source": [
        "# Now update the weights of the CONV layer"
      ]
    },
    {
      "cell_type": "code",
      "metadata": {
        "id": "gSt-eArbtO6P",
        "colab_type": "code",
        "colab": {
          "base_uri": "https://localhost:8080/",
          "height": 153
        },
        "outputId": "0faffbe5-706c-4a64-ced0-3c706c5229a2"
      },
      "source": [
        "for layer in model.layers:\n",
        "  if 'conv' not in layer.name:\n",
        "    continue\n",
        "  filters, biases = layer.get_weights()\n",
        "  layer.set_weights([weights_data, biases])\n",
        "  filters, biases = layer.get_weights()\n",
        "  print(\"Filters: \", filters)\n",
        "  print(\"Biases: \", biases)"
      ],
      "execution_count": 14,
      "outputs": [
        {
          "output_type": "stream",
          "text": [
            "Filters:  [[[[3. 3. 3. 3. 3. 3. 3. 3. 3. 3. 3. 3. 3. 3. 3. 3. 3. 3. 3. 3. 3. 3.\n",
            "    3. 3. 3. 3. 3. 3. 3. 3. 3. 3.]\n",
            "   [3. 3. 3. 3. 3. 3. 3. 3. 3. 3. 3. 3. 3. 3. 3. 3. 3. 3. 3. 3. 3. 3.\n",
            "    3. 3. 3. 3. 3. 3. 3. 3. 3. 3.]\n",
            "   [3. 3. 3. 3. 3. 3. 3. 3. 3. 3. 3. 3. 3. 3. 3. 3. 3. 3. 3. 3. 3. 3.\n",
            "    3. 3. 3. 3. 3. 3. 3. 3. 3. 3.]]]]\n",
            "Biases:  [0. 0. 0. 0. 0. 0. 0. 0. 0. 0. 0. 0. 0. 0. 0. 0. 0. 0. 0. 0. 0. 0. 0. 0.\n",
            " 0. 0. 0. 0. 0. 0. 0. 0.]\n"
          ],
          "name": "stdout"
        }
      ]
    }
  ]
}